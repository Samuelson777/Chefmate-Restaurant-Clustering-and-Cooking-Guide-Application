{
  "cells": [
    {
      "cell_type": "code",
      "execution_count": 3,
      "metadata": {
        "id": "GIvl4cZjQNI4"
      },
      "outputs": [],
      "source": [
        "# import libraries\n",
        "import pandas as pd\n",
        "import numpy as np\n",
        "import mysql.connector\n",
        "import sqlalchemy\n",
        "import warnings\n",
        "warnings.filterwarnings('ignore')"
      ]
    },
    {
      "cell_type": "markdown",
      "metadata": {
        "id": "y4wvj26SQNI9"
      },
      "source": [
        "## **RDS database**"
      ]
    },
    {
      "cell_type": "code",
      "execution_count": 4,
      "metadata": {
        "id": "xBLDMRaPQNI-"
      },
      "outputs": [],
      "source": [
        "mydb = mysql.connector.connect(\n",
        "    host = 'endpoint',\n",
        "    port = 3306,\n",
        "    user = 'admin',\n",
        "    password = 'samguna10')"
      ]
    },
    {
      "cell_type": "code",
      "execution_count": 5,
      "metadata": {
        "id": "4ACM__dPQNI-"
      },
      "outputs": [],
      "source": [
        "mycursor = mydb.cursor()"
      ]
    },
    {
      "cell_type": "code",
      "execution_count": 6,
      "metadata": {
        "id": "WHe_c742QNI_"
      },
      "outputs": [],
      "source": [
        "mycursor.execute('show databases')"
      ]
    },
    {
      "cell_type": "code",
      "execution_count": 7,
      "metadata": {
        "colab": {
          "base_uri": "https://localhost:8080/"
        },
        "id": "WWKC6Q8AQNI_",
        "outputId": "fa12476f-7efe-4db2-8875-fc6ebeb4f28a"
      },
      "outputs": [
        {
          "data": {
            "text/plain": [
              "[('information_schema',), ('mysql',), ('performance_schema',), ('sys',)]"
            ]
          },
          "execution_count": 7,
          "metadata": {},
          "output_type": "execute_result"
        }
      ],
      "source": [
        "mycursor.fetchall()"
      ]
    },
    {
      "cell_type": "code",
      "execution_count": 9,
      "metadata": {
        "id": "oFbDtWrYQNJA"
      },
      "outputs": [],
      "source": [
        "mycursor.execute('create database chefmate')\n",
        "\n",
        "mydb.commit()"
      ]
    },
    {
      "cell_type": "code",
      "execution_count": 12,
      "metadata": {
        "colab": {
          "base_uri": "https://localhost:8080/"
        },
        "id": "VSNUlsk8QNJA",
        "outputId": "d73e8a63-9d67-427c-bba3-0bf04056e5de"
      },
      "outputs": [
        {
          "data": {
            "text/plain": [
              "[('chefmate',),\n",
              " ('information_schema',),\n",
              " ('mdtm31',),\n",
              " ('mysql',),\n",
              " ('performance_schema',),\n",
              " ('sys',)]"
            ]
          },
          "execution_count": 12,
          "metadata": {},
          "output_type": "execute_result"
        }
      ],
      "source": [
        "mycursor.execute('show databases')\n",
        "\n",
        "mycursor.fetchall()"
      ]
    },
    {
      "cell_type": "code",
      "execution_count": 13,
      "metadata": {
        "id": "H3mvjD4sQNJA"
      },
      "outputs": [],
      "source": [
        "server = 'endpoint'\n",
        "port = 3306\n",
        "user = 'admin'\n",
        "password = 'samguna10'\n",
        "database = 'chefmate'\n",
        "sqltype = \"mysql+mysqlconnector\"\n",
        "\n",
        "engine = sqlalchemy.create_engine(f'{sqltype}://{user}:{password}@{server}:{port}/{database}')"
      ]
    },
    {
      "cell_type": "code",
      "execution_count": 14,
      "metadata": {
        "id": "yBIgNPE1QNJB"
      },
      "outputs": [],
      "source": [
        "# Load the cleaned data\n",
        "df = pd.read_csv('Zomato_cleaned_data.csv')"
      ]
    },
    {
      "cell_type": "code",
      "execution_count": 15,
      "metadata": {
        "colab": {
          "base_uri": "https://localhost:8080/"
        },
        "id": "8FV4FFdoQNJB",
        "outputId": "e872eaa9-7bff-4cf2-d37e-9720b3af14d6"
      },
      "outputs": [
        {
          "data": {
            "text/plain": [
              "-1"
            ]
          },
          "execution_count": 15,
          "metadata": {},
          "output_type": "execute_result"
        }
      ],
      "source": [
        "df.to_sql(\"restaurant\",con=engine,if_exists = 'replace')"
      ]
    },
    {
      "cell_type": "code",
      "execution_count": null,
      "metadata": {},
      "outputs": [],
      "source": [
        "# SQL query\n",
        "#query = \"SELECT * FROM restaurant\"\n",
        "# Load data into a DataFrame\n",
        "#df = pd.read_sql(query, engine)"
      ]
    },
    {
      "cell_type": "code",
      "execution_count": null,
      "metadata": {},
      "outputs": [],
      "source": [
        "# remove one index\n",
        "#df = df.drop(columns=['index'])"
      ]
    }
  ],
  "metadata": {
    "colab": {
      "provenance": []
    },
    "kernelspec": {
      "display_name": ".venv",
      "language": "python",
      "name": "python3"
    },
    "language_info": {
      "codemirror_mode": {
        "name": "ipython",
        "version": 3
      },
      "file_extension": ".py",
      "mimetype": "text/x-python",
      "name": "python",
      "nbconvert_exporter": "python",
      "pygments_lexer": "ipython3",
      "version": "3.12.8"
    }
  },
  "nbformat": 4,
  "nbformat_minor": 0
}
